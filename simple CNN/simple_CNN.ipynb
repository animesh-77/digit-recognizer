{
  "cells": [
    {
      "cell_type": "markdown",
      "metadata": {
        "id": "view-in-github",
        "colab_type": "text"
      },
      "source": [
        "<a href=\"https://colab.research.google.com/github/animesh-77/digit-recognizer/blob/master/simple%20CNN/simple_CNN.ipynb\" target=\"_parent\"><img src=\"https://colab.research.google.com/assets/colab-badge.svg\" alt=\"Open In Colab\"/></a>"
      ]
    },
    {
      "cell_type": "code",
      "execution_count": null,
      "id": "cac99f36",
      "metadata": {
        "id": "cac99f36"
      },
      "outputs": [],
      "source": [
        "import tensorflow as tf\n",
        "import numpy as np\n",
        "\n",
        "import matplotlib.pyplot as plt"
      ]
    },
    {
      "cell_type": "code",
      "execution_count": null,
      "id": "8bc81ec3",
      "metadata": {
        "colab": {
          "base_uri": "https://localhost:8080/",
          "height": 351
        },
        "id": "8bc81ec3",
        "outputId": "4265b541-3897-40d3-adf4-de95b253f0ff"
      },
      "outputs": [
        {
          "output_type": "stream",
          "name": "stdout",
          "text": [
            "Downloading data from https://storage.googleapis.com/tensorflow/tf-keras-datasets/mnist.npz\n",
            "11490434/11490434 [==============================] - 1s 0us/step\n",
            "(60000, 28, 28) \n",
            "(10000, 28, 28) \n",
            "(60000,) \n",
            "(10000,)\n"
          ]
        },
        {
          "output_type": "display_data",
          "data": {
            "text/plain": [
              "<Figure size 432x288 with 6 Axes>"
            ],
            "image/png": "[encoded data removed]"
          },
          "metadata": {}
        }
      ],
      "source": [
        "(x_train, y_train), (x_test, y_test) = tf.keras.datasets.mnist.load_data()\n",
        "\n",
        "print(f\"{x_train.shape} \\n{x_test.shape} \\n{y_train.shape} \\n{y_test.shape}\")\n",
        "fig, axes= plt.subplots(2,3, sharex= True, sharey= True)\n",
        "\n",
        "fig.subplots_adjust(hspace=0, wspace=0.4)\n",
        "\n",
        "for ax in axes.flatten():\n",
        "    ax.set_xticks([])\n",
        "    ax.set_yticks([])\n",
        "    n= np.random.randint(0,1500)\n",
        "    ax.set_title(y_train[n])\n",
        "    ax.imshow(x_train[n][:][:], cmap= \"Greys\")\n",
        "plt.show()\n",
        "\n",
        "## see a few exmples along with the labels"
      ]
    },
    {
      "cell_type": "code",
      "execution_count": null,
      "id": "edc8495b",
      "metadata": {
        "id": "edc8495b"
      },
      "outputs": [],
      "source": [
        "from tensorflow.keras.layers import Input, Conv2D, MaxPooling2D, Flatten, Dense\n"
      ]
    },
    {
      "cell_type": "code",
      "source": [
        "def get_CNN_model(input_shape):\n",
        "    inputs = Input(shape= input_shape)\n",
        "    layer1= Conv2D(24, 3, 3)(inputs)\n",
        "    layer2= Conv2D(48, 3, 3)(layer1)\n",
        "    flatten1= Flatten()(layer2)\n",
        "    outputs= Dense(10, activation=\"softmax\")(flatten1)\n",
        "\n",
        "    model= tf.keras.Model(inputs, outputs)\n",
        "    return model"
      ],
      "metadata": {
        "id": "vmKF0goS40z3"
      },
      "id": "vmKF0goS40z3",
      "execution_count": null,
      "outputs": []
    },
    {
      "cell_type": "code",
      "source": [
        "model= get_CNN_model((28,28,1))\n",
        "model.summary()"
      ],
      "metadata": {
        "colab": {
          "base_uri": "https://localhost:8080/"
        },
        "id": "6dbT466x55gg",
        "outputId": "32f13f9f-4a14-48cf-906c-81eec12aaa7e"
      },
      "id": "6dbT466x55gg",
      "execution_count": null,
      "outputs": [
        {
          "output_type": "stream",
          "name": "stdout",
          "text": [
            "Model: \"model\"\n",
            "_________________________________________________________________\n",
            " Layer (type)                Output Shape              Param #   \n",
            "=================================================================\n",
            " input_2 (InputLayer)        [(None, 28, 28, 1)]       0         \n",
            "                                                                 \n",
            " conv2d_2 (Conv2D)           (None, 9, 9, 24)          240       \n",
            "                                                                 \n",
            " conv2d_3 (Conv2D)           (None, 3, 3, 48)          10416     \n",
            "                                                                 \n",
            " flatten (Flatten)           (None, 432)               0         \n",
            "                                                                 \n",
            " dense (Dense)               (None, 10)                4330      \n",
            "                                                                 \n",
            "=================================================================\n",
            "Total params: 14,986\n",
            "Trainable params: 14,986\n",
            "Non-trainable params: 0\n",
            "_________________________________________________________________\n"
          ]
        }
      ]
    },
    {
      "cell_type": "markdown",
      "id": "e819cfd0",
      "metadata": {
        "id": "e819cfd0"
      },
      "source": [
        "We see that output from model is shaped (None, 10). Or for batches=b we have (b,10).\n",
        "Now our output for training set is shaped (b,) not (b,10).\n",
        "\n",
        "This is where sparse categorical entropy is used. When we do not have one hot encoded data in output for predicted set.\n",
        "[Read more](https://cwiki.apache.org/confluence/display/MXNET/Multi-hot+Sparse+Categorical+Cross-entropy)"
      ]
    },
    {
      "cell_type": "code",
      "source": [
        "model.compile(optimizer= \"Adam\", loss= \"sparse_categorical_crossentropy\")"
      ],
      "metadata": {
        "id": "-t644Rs_6io1"
      },
      "id": "-t644Rs_6io1",
      "execution_count": null,
      "outputs": []
    },
    {
      "cell_type": "code",
      "execution_count": null,
      "id": "743074cb",
      "metadata": {
        "scrolled": true,
        "colab": {
          "base_uri": "https://localhost:8080/"
        },
        "id": "743074cb",
        "outputId": "fed09ef7-8e90-4c8d-9aa6-0a27eae88597"
      },
      "outputs": [
        {
          "output_type": "stream",
          "name": "stdout",
          "text": [
            "Epoch 1/20\n",
            "1875/1875 [==============================] - 14s 3ms/step - loss: 1.0164\n",
            "Epoch 2/20\n",
            "1875/1875 [==============================] - 4s 2ms/step - loss: 0.3996\n",
            "Epoch 3/20\n",
            "1875/1875 [==============================] - 4s 2ms/step - loss: 0.3681\n",
            "Epoch 4/20\n",
            "1875/1875 [==============================] - 5s 2ms/step - loss: 0.3589\n",
            "Epoch 5/20\n",
            "1875/1875 [==============================] - 4s 2ms/step - loss: 0.3540\n",
            "Epoch 6/20\n",
            "1875/1875 [==============================] - 4s 2ms/step - loss: 0.3499\n",
            "Epoch 7/20\n",
            "1875/1875 [==============================] - 4s 2ms/step - loss: 0.3464\n",
            "Epoch 8/20\n",
            "1875/1875 [==============================] - 4s 2ms/step - loss: 0.3444\n",
            "Epoch 9/20\n",
            "1875/1875 [==============================] - 4s 2ms/step - loss: 0.3396\n",
            "Epoch 10/20\n",
            "1875/1875 [==============================] - 4s 2ms/step - loss: 0.3374\n",
            "Epoch 11/20\n",
            "1875/1875 [==============================] - 4s 2ms/step - loss: 0.3358\n",
            "Epoch 12/20\n",
            "1875/1875 [==============================] - 5s 3ms/step - loss: 0.3344\n",
            "Epoch 13/20\n",
            "1875/1875 [==============================] - 5s 3ms/step - loss: 0.3299\n",
            "Epoch 14/20\n",
            "1875/1875 [==============================] - 4s 2ms/step - loss: 0.3303\n",
            "Epoch 15/20\n",
            "1875/1875 [==============================] - 4s 2ms/step - loss: 0.3306\n",
            "Epoch 16/20\n",
            "1875/1875 [==============================] - 4s 2ms/step - loss: 0.3271\n",
            "Epoch 17/20\n",
            "1875/1875 [==============================] - 4s 2ms/step - loss: 0.3288\n",
            "Epoch 18/20\n",
            "1875/1875 [==============================] - 4s 2ms/step - loss: 0.3262\n",
            "Epoch 19/20\n",
            "1875/1875 [==============================] - 4s 2ms/step - loss: 0.3250\n",
            "Epoch 20/20\n",
            "1875/1875 [==============================] - 4s 2ms/step - loss: 0.3251\n"
          ]
        }
      ],
      "source": [
        "\n",
        "## training the model on train data\n",
        "history= model.fit(x_train, y_train, epochs=20)\n"
      ]
    },
    {
      "cell_type": "code",
      "execution_count": null,
      "id": "3f99e6e3",
      "metadata": {
        "colab": {
          "base_uri": "https://localhost:8080/",
          "height": 265
        },
        "id": "3f99e6e3",
        "outputId": "0a5002d6-608c-4f17-a062-818ec8986699"
      },
      "outputs": [
        {
          "output_type": "display_data",
          "data": {
            "text/plain": [
              "<Figure size 432x288 with 1 Axes>"
            ],
            "image/png": "[encoded data removed]"
          },
          "metadata": {
            "needs_background": "light"
          }
        }
      ],
      "source": [
        "plt.plot(history.history[\"loss\"])\n",
        "plt.grid()\n",
        "plt.show()"
      ]
    },
    {
      "cell_type": "code",
      "execution_count": null,
      "id": "8ea9c6c5",
      "metadata": {
        "id": "8ea9c6c5"
      },
      "outputs": [],
      "source": [
        "##  Saving the model\n",
        "model.save(\"simple_CNN_weights.h5\")"
      ]
    },
    {
      "cell_type": "code",
      "execution_count": null,
      "id": "0aed6e58",
      "metadata": {
        "colab": {
          "base_uri": "https://localhost:8080/",
          "height": 317
        },
        "id": "0aed6e58",
        "outputId": "7683afa3-5d1e-4116-88a0-23340fcbf2ff"
      },
      "outputs": [
        {
          "output_type": "stream",
          "name": "stdout",
          "text": [
            "1/1 [==============================] - 0s 15ms/step\n",
            "shape of raw output from model : (1, 10)\n"
          ]
        },
        {
          "output_type": "display_data",
          "data": {
            "text/plain": [
              "<Figure size 432x288 with 2 Axes>"
            ],
            "image/png": "[encoded data removed]"
          },
          "metadata": {
            "needs_background": "light"
          }
        },
        {
          "output_type": "stream",
          "name": "stdout",
          "text": [
            "Predicted label : 4, Actual Label : 4\n"
          ]
        }
      ],
      "source": [
        "# Displaying a random image from test dataset and the corresponding prediction from the NN defined above\n",
        "\n",
        "n = np.random.randint(0, y_test.shape[0])\n",
        "vals = model.predict(x_train[n][:][:].reshape(1, 28,28))\n",
        "print(f\"shape of raw output from model : {vals.shape}\")\n",
        "\n",
        "vals= vals.reshape(10) # the index with max value is the prediction\n",
        "\n",
        "fig, ax= plt.subplots(1,2)\n",
        "ax[0].scatter(np.arange(vals.size) , vals)\n",
        "ax[0].set_xticks(np.arange(vals.size))\n",
        "\n",
        "ax[1].imshow(x_train[n], cmap= \"Greys\")\n",
        "plt.show()\n",
        "\n",
        "print(f\"Predicted label : {np.argmax(vals)}, Actual Label : {y_train[n]}\")\n"
      ]
    },
    {
      "cell_type": "code",
      "source": [
        "!pip install gradio"
      ],
      "metadata": {
        "id": "Qi5x2KYF3CSi"
      },
      "id": "Qi5x2KYF3CSi",
      "execution_count": null,
      "outputs": []
    },
    {
      "cell_type": "code",
      "execution_count": null,
      "id": "5af655c6",
      "metadata": {
        "colab": {
          "base_uri": "https://localhost:8080/",
          "height": 775
        },
        "id": "5af655c6",
        "outputId": "480b692f-3047-46a6-c30d-b0d130d14dd1"
      },
      "outputs": [
        {
          "output_type": "stream",
          "name": "stderr",
          "text": [
            "/usr/local/lib/python3.8/dist-packages/gradio/deprecation.py:43: UserWarning: You have unused kwarg parameters in Sketchpad, please remove them: {'visibile': True}\n",
            "  warnings.warn(\n"
          ]
        },
        {
          "output_type": "stream",
          "name": "stdout",
          "text": [
            "Hint: Set streaming=True for Sketchpad component to use live streaming.\n",
            "Colab notebook detected. This cell will run indefinitely so that you can see errors and logs. To turn off, set debug=False in launch().\n",
            "Note: opening Chrome Inspector may crash demo inside Colab notebooks.\n",
            "\n",
            "To create a public link, set `share=True` in `launch()`.\n"
          ]
        },
        {
          "output_type": "display_data",
          "data": {
            "text/plain": [
              "<IPython.core.display.Javascript object>"
            ],
            "application/javascript": [
              "(async (port, path, width, height, cache, element) => {\n",
              "                        if (!google.colab.kernel.accessAllowed && !cache) {\n",
              "                            return;\n",
              "                        }\n",
              "                        element.appendChild(document.createTextNode(''));\n",
              "                        const url = await google.colab.kernel.proxyPort(port, {cache});\n",
              "\n",
              "                        const external_link = document.createElement('div');\n",
              "                        external_link.innerHTML = `\n",
              "                            <div style=\"font-family: monospace; margin-bottom: 0.5rem\">\n",
              "                                Running on <a href=${new URL(path, url).toString()} target=\"_blank\">\n",
              "                                    https://localhost:${port}${path}\n",
              "                                </a>\n",
              "                            </div>\n",
              "                        `;\n",
              "                        element.appendChild(external_link);\n",
              "\n",
              "                        const iframe = document.createElement('iframe');\n",
              "                        iframe.src = new URL(path, url).toString();\n",
              "                        iframe.height = height;\n",
              "                        iframe.allow = \"autoplay; camera; microphone; clipboard-read; clipboard-write;\"\n",
              "                        iframe.width = width;\n",
              "                        iframe.style.border = 0;\n",
              "                        element.appendChild(iframe);\n",
              "                    })(7861, \"/\", \"100%\", 500, false, window.element)"
            ]
          },
          "metadata": {}
        },
        {
          "output_type": "stream",
          "name": "stdout",
          "text": [
            "1/1 [==============================] - 0s 17ms/step\n",
            "1/1 [==============================] - 0s 14ms/step\n",
            "1/1 [==============================] - 0s 14ms/step\n",
            "1/1 [==============================] - 0s 14ms/step\n",
            "Keyboard interruption in main thread... closing server.\n"
          ]
        },
        {
          "output_type": "execute_result",
          "data": {
            "text/plain": []
          },
          "metadata": {},
          "execution_count": 19
        }
      ],
      "source": [
        "import gradio as gr\n",
        "\n",
        "def sketch_recognition(img):\n",
        "    ans= model.predict(img.reshape(1, 28,28))\n",
        "    ans= np.argmax(ans)\n",
        "    return ans\n",
        "\n",
        "window= gr.Interface(fn=sketch_recognition, inputs=\"sketchpad\", outputs= \"label\", live= True)\n",
        "window.launch(debug= True)"
      ]
    }
  ],
  "metadata": {
    "kernelspec": {
      "display_name": "Python 3 (ipykernel)",
      "language": "python",
      "name": "python3"
    },
    "language_info": {
      "codemirror_mode": {
        "name": "ipython",
        "version": 3
      },
      "file_extension": ".py",
      "mimetype": "text/x-python",
      "name": "python",
      "nbconvert_exporter": "python",
      "pygments_lexer": "ipython3",
      "version": "3.8.13"
    },
    "colab": {
      "provenance": [],
      "include_colab_link": true
    },
    "accelerator": "GPU",
    "gpuClass": "standard"
  },
  "nbformat": 4,
  "nbformat_minor": 5
}